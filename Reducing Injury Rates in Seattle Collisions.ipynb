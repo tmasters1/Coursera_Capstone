{
 "cells": [
  {
   "cell_type": "code",
   "execution_count": 1,
   "metadata": {},
   "outputs": [],
   "source": [
    "import pandas as pd\n",
    "import numpy as np\n",
    "from sklearn.model_selection import train_test_split\n",
    "from sklearn.tree import DecisionTreeClassifier\n",
    "from sklearn.metrics import classification_report, confusion_matrix\n",
    "from sklearn import metrics\n",
    "from sklearn.utils import resample\n",
    "import matplotlib.pyplot as plt\n",
    "import itertools\n",
    "import seaborn as sns\n",
    "sns.set()"
   ]
  },
  {
   "cell_type": "code",
   "execution_count": 2,
   "metadata": {},
   "outputs": [],
   "source": [
    "def plot_confusion_matrix(cm, classes,\n",
    "                          normalize=False,\n",
    "                          title='Confusion matrix',\n",
    "                          cmap=plt.cm.Blues):\n",
    "    \"\"\"\n",
    "    This function prints and plots the confusion matrix.\n",
    "    Normalization can be applied by setting `normalize=True`.\n",
    "    \"\"\"\n",
    "    np.set_printoptions(formatter={'float': lambda x: \"{0:0.3f}\".format(x)})\n",
    "    if normalize:\n",
    "        cm = cm.astype('float') / cm.sum(axis=1)[:, np.newaxis]\n",
    "        print(\"Normalized confusion matrix\")\n",
    "    else:\n",
    "        print('Confusion matrix, without normalization')\n",
    "\n",
    "    print(cm)\n",
    "\n",
    "    plt.imshow(cm, interpolation='nearest', cmap=cmap)\n",
    "    plt.title(title)\n",
    "    plt.colorbar()\n",
    "    tick_marks = np.arange(len(classes))\n",
    "    plt.xticks(tick_marks, classes, rotation=45)\n",
    "    plt.yticks(tick_marks, classes)\n",
    "\n",
    "    fmt = '.3f' if normalize else 'd'\n",
    "    thresh = cm.max() / 2.\n",
    "    for i, j in itertools.product(range(cm.shape[0]), range(cm.shape[1])):\n",
    "        plt.text(j, i, format(cm[i, j], fmt),\n",
    "                 horizontalalignment=\"center\",\n",
    "                 color=\"white\" if cm[i, j] > thresh else \"black\")\n",
    "\n",
    "    plt.tight_layout()\n",
    "    plt.ylabel('True label')\n",
    "    plt.xlabel('Predicted label')"
   ]
  },
  {
   "cell_type": "code",
   "execution_count": 3,
   "metadata": {},
   "outputs": [
    {
     "data": {
      "text/plain": [
       "(221389, 40)"
      ]
     },
     "execution_count": 3,
     "metadata": {},
     "output_type": "execute_result"
    }
   ],
   "source": [
    "# import raw data file\n",
    "path = 'C:/Users/tobymasters/Dropbox/Education/IBM Data Science Certification/Capstone Project/Data/Full Dataset/'\n",
    "raw_data = pd.read_csv(path + 'Collisions.csv')\n",
    "raw_data.shape"
   ]
  },
  {
   "cell_type": "code",
   "execution_count": 4,
   "metadata": {},
   "outputs": [
    {
     "data": {
      "text/plain": [
       "SEVERITYCODE                            1\n",
       "ADDRTYPE                            Block\n",
       "INATTENTIONIND                        NaN\n",
       "UNDERINFL                               N\n",
       "WEATHER                           Raining\n",
       "ROADCOND                              Wet\n",
       "LIGHTCOND         Dark - Street Lights On\n",
       "SPEEDING                              NaN\n",
       "PEDCOUNT                                0\n",
       "PEDCYLCOUNT                             0\n",
       "Name: 0, dtype: object"
      ]
     },
     "execution_count": 4,
     "metadata": {},
     "output_type": "execute_result"
    }
   ],
   "source": [
    "# extract important features\n",
    "features = ['SEVERITYCODE', 'ADDRTYPE', 'INATTENTIONIND', 'UNDERINFL',\n",
    "           'WEATHER', 'ROADCOND', 'LIGHTCOND', 'SPEEDING', 'PEDCOUNT', 'PEDCYLCOUNT']\n",
    "data = raw_data[features]\n",
    "data.iloc[0]"
   ]
  },
  {
   "cell_type": "code",
   "execution_count": 5,
   "metadata": {},
   "outputs": [
    {
     "name": "stderr",
     "output_type": "stream",
     "text": [
      "C:\\Users\\tobymasters\\Anaconda3\\lib\\site-packages\\pandas\\core\\generic.py:5208: SettingWithCopyWarning: \n",
      "A value is trying to be set on a copy of a slice from a DataFrame.\n",
      "Try using .loc[row_indexer,col_indexer] = value instead\n",
      "\n",
      "See the caveats in the documentation: http://pandas.pydata.org/pandas-docs/stable/user_guide/indexing.html#returning-a-view-versus-a-copy\n",
      "  self[name] = value\n"
     ]
    },
    {
     "data": {
      "text/plain": [
       "0.0    159190\n",
       "1.0     62198\n",
       "Name: SEVERITYCODE, dtype: int64"
      ]
     },
     "execution_count": 5,
     "metadata": {},
     "output_type": "execute_result"
    }
   ],
   "source": [
    "# transform target variable for binary classification\n",
    "data.SEVERITYCODE = data.SEVERITYCODE.replace({'0':0, '1':0, '2':1, '2b':1, '3':1}).copy()\n",
    "data.SEVERITYCODE.value_counts()"
   ]
  },
  {
   "cell_type": "code",
   "execution_count": 6,
   "metadata": {},
   "outputs": [
    {
     "name": "stderr",
     "output_type": "stream",
     "text": [
      "C:\\Users\\tobymasters\\Anaconda3\\lib\\site-packages\\pandas\\core\\frame.py:3494: SettingWithCopyWarning: \n",
      "A value is trying to be set on a copy of a slice from a DataFrame.\n",
      "Try using .loc[row_indexer,col_indexer] = value instead\n",
      "\n",
      "See the caveats in the documentation: http://pandas.pydata.org/pandas-docs/stable/user_guide/indexing.html#returning-a-view-versus-a-copy\n",
      "  self[k1] = value[k2]\n"
     ]
    }
   ],
   "source": [
    "# clean mixed type data\n",
    "data.UNDERINFL = data.UNDERINFL.replace({'Y': 1, 'N': 0, '1': 1, '0': 0})\n",
    "\n",
    "# convert data to binary\n",
    "data[['SPEEDING', 'INATTENTIONIND']] = data[['SPEEDING', 'INATTENTIONIND']].replace(np.nan, 0).copy()\n",
    "data[['SPEEDING', 'INATTENTIONIND']] = data[['SPEEDING', 'INATTENTIONIND']].replace('Y', 1).copy()\n",
    "data.ADDRTYPE = data.ADDRTYPE.replace({'Alley':np.nan, 'Block':0, 'Intersection':1}).copy()\n",
    "\n",
    "# remove 'Unknown' classifications\n",
    "data = data.replace('Unknown', np.nan).copy()\n",
    "\n",
    "# create pedestrial/cyclist indicator feature\n",
    "data['PEDCYL'] = (data.PEDCOUNT + data.PEDCYLCOUNT > 0).astype(int)"
   ]
  },
  {
   "cell_type": "code",
   "execution_count": 7,
   "metadata": {},
   "outputs": [
    {
     "data": {
      "text/html": [
       "<div>\n",
       "<style scoped>\n",
       "    .dataframe tbody tr th:only-of-type {\n",
       "        vertical-align: middle;\n",
       "    }\n",
       "\n",
       "    .dataframe tbody tr th {\n",
       "        vertical-align: top;\n",
       "    }\n",
       "\n",
       "    .dataframe thead th {\n",
       "        text-align: right;\n",
       "    }\n",
       "</style>\n",
       "<table border=\"1\" class=\"dataframe\">\n",
       "  <thead>\n",
       "    <tr style=\"text-align: right;\">\n",
       "      <th></th>\n",
       "      <th>0</th>\n",
       "    </tr>\n",
       "  </thead>\n",
       "  <tbody>\n",
       "    <tr>\n",
       "      <td>SEVERITYCODE</td>\n",
       "      <td>1</td>\n",
       "    </tr>\n",
       "    <tr>\n",
       "      <td>ADDRTYPE</td>\n",
       "      <td>4588</td>\n",
       "    </tr>\n",
       "    <tr>\n",
       "      <td>INATTENTIONIND</td>\n",
       "      <td>0</td>\n",
       "    </tr>\n",
       "    <tr>\n",
       "      <td>UNDERINFL</td>\n",
       "      <td>26210</td>\n",
       "    </tr>\n",
       "    <tr>\n",
       "      <td>WEATHER</td>\n",
       "      <td>41551</td>\n",
       "    </tr>\n",
       "    <tr>\n",
       "      <td>ROADCOND</td>\n",
       "      <td>41478</td>\n",
       "    </tr>\n",
       "    <tr>\n",
       "      <td>LIGHTCOND</td>\n",
       "      <td>40041</td>\n",
       "    </tr>\n",
       "    <tr>\n",
       "      <td>SPEEDING</td>\n",
       "      <td>0</td>\n",
       "    </tr>\n",
       "    <tr>\n",
       "      <td>PEDCOUNT</td>\n",
       "      <td>0</td>\n",
       "    </tr>\n",
       "    <tr>\n",
       "      <td>PEDCYLCOUNT</td>\n",
       "      <td>0</td>\n",
       "    </tr>\n",
       "    <tr>\n",
       "      <td>PEDCYL</td>\n",
       "      <td>0</td>\n",
       "    </tr>\n",
       "  </tbody>\n",
       "</table>\n",
       "</div>"
      ],
      "text/plain": [
       "                    0\n",
       "SEVERITYCODE        1\n",
       "ADDRTYPE         4588\n",
       "INATTENTIONIND      0\n",
       "UNDERINFL       26210\n",
       "WEATHER         41551\n",
       "ROADCOND        41478\n",
       "LIGHTCOND       40041\n",
       "SPEEDING            0\n",
       "PEDCOUNT            0\n",
       "PEDCYLCOUNT         0\n",
       "PEDCYL              0"
      ]
     },
     "execution_count": 7,
     "metadata": {},
     "output_type": "execute_result"
    }
   ],
   "source": [
    "# assess null value counts\n",
    "data.isnull().sum().to_frame()"
   ]
  },
  {
   "cell_type": "code",
   "execution_count": 8,
   "metadata": {},
   "outputs": [
    {
     "data": {
      "text/html": [
       "<div>\n",
       "<style scoped>\n",
       "    .dataframe tbody tr th:only-of-type {\n",
       "        vertical-align: middle;\n",
       "    }\n",
       "\n",
       "    .dataframe tbody tr th {\n",
       "        vertical-align: top;\n",
       "    }\n",
       "\n",
       "    .dataframe thead th {\n",
       "        text-align: right;\n",
       "    }\n",
       "</style>\n",
       "<table border=\"1\" class=\"dataframe\">\n",
       "  <thead>\n",
       "    <tr style=\"text-align: right;\">\n",
       "      <th></th>\n",
       "      <th>0</th>\n",
       "    </tr>\n",
       "  </thead>\n",
       "  <tbody>\n",
       "    <tr>\n",
       "      <td>SEVERITYCODE</td>\n",
       "      <td>0</td>\n",
       "    </tr>\n",
       "    <tr>\n",
       "      <td>ADDRTYPE</td>\n",
       "      <td>0</td>\n",
       "    </tr>\n",
       "    <tr>\n",
       "      <td>INATTENTIONIND</td>\n",
       "      <td>0</td>\n",
       "    </tr>\n",
       "    <tr>\n",
       "      <td>UNDERINFL</td>\n",
       "      <td>0</td>\n",
       "    </tr>\n",
       "    <tr>\n",
       "      <td>WEATHER</td>\n",
       "      <td>0</td>\n",
       "    </tr>\n",
       "    <tr>\n",
       "      <td>ROADCOND</td>\n",
       "      <td>0</td>\n",
       "    </tr>\n",
       "    <tr>\n",
       "      <td>LIGHTCOND</td>\n",
       "      <td>0</td>\n",
       "    </tr>\n",
       "    <tr>\n",
       "      <td>SPEEDING</td>\n",
       "      <td>0</td>\n",
       "    </tr>\n",
       "    <tr>\n",
       "      <td>PEDCOUNT</td>\n",
       "      <td>0</td>\n",
       "    </tr>\n",
       "    <tr>\n",
       "      <td>PEDCYLCOUNT</td>\n",
       "      <td>0</td>\n",
       "    </tr>\n",
       "    <tr>\n",
       "      <td>PEDCYL</td>\n",
       "      <td>0</td>\n",
       "    </tr>\n",
       "  </tbody>\n",
       "</table>\n",
       "</div>"
      ],
      "text/plain": [
       "                0\n",
       "SEVERITYCODE    0\n",
       "ADDRTYPE        0\n",
       "INATTENTIONIND  0\n",
       "UNDERINFL       0\n",
       "WEATHER         0\n",
       "ROADCOND        0\n",
       "LIGHTCOND       0\n",
       "SPEEDING        0\n",
       "PEDCOUNT        0\n",
       "PEDCYLCOUNT     0\n",
       "PEDCYL          0"
      ]
     },
     "execution_count": 8,
     "metadata": {},
     "output_type": "execute_result"
    }
   ],
   "source": [
    "# drop observations with null values\n",
    "data.dropna(axis=0, inplace=True)\n",
    "data.isnull().sum().to_frame()"
   ]
  },
  {
   "cell_type": "code",
   "execution_count": 9,
   "metadata": {},
   "outputs": [
    {
     "data": {
      "text/plain": [
       "(174425, 11)"
      ]
     },
     "execution_count": 9,
     "metadata": {},
     "output_type": "execute_result"
    }
   ],
   "source": [
    "data.shape"
   ]
  },
  {
   "cell_type": "code",
   "execution_count": 10,
   "metadata": {},
   "outputs": [
    {
     "data": {
      "text/html": [
       "<div>\n",
       "<style scoped>\n",
       "    .dataframe tbody tr th:only-of-type {\n",
       "        vertical-align: middle;\n",
       "    }\n",
       "\n",
       "    .dataframe tbody tr th {\n",
       "        vertical-align: top;\n",
       "    }\n",
       "\n",
       "    .dataframe thead th {\n",
       "        text-align: right;\n",
       "    }\n",
       "</style>\n",
       "<table border=\"1\" class=\"dataframe\">\n",
       "  <thead>\n",
       "    <tr style=\"text-align: right;\">\n",
       "      <th></th>\n",
       "      <th>sand_dirt</th>\n",
       "      <th>clear</th>\n",
       "      <th>fog_smoke</th>\n",
       "      <th>other_w</th>\n",
       "      <th>overcast</th>\n",
       "      <th>partly_cloudy</th>\n",
       "      <th>raining</th>\n",
       "      <th>crosswind</th>\n",
       "      <th>sleet</th>\n",
       "      <th>snowing</th>\n",
       "    </tr>\n",
       "  </thead>\n",
       "  <tbody>\n",
       "    <tr>\n",
       "      <td>0</td>\n",
       "      <td>0</td>\n",
       "      <td>0</td>\n",
       "      <td>0</td>\n",
       "      <td>0</td>\n",
       "      <td>0</td>\n",
       "      <td>0</td>\n",
       "      <td>1</td>\n",
       "      <td>0</td>\n",
       "      <td>0</td>\n",
       "      <td>0</td>\n",
       "    </tr>\n",
       "    <tr>\n",
       "      <td>1</td>\n",
       "      <td>0</td>\n",
       "      <td>1</td>\n",
       "      <td>0</td>\n",
       "      <td>0</td>\n",
       "      <td>0</td>\n",
       "      <td>0</td>\n",
       "      <td>0</td>\n",
       "      <td>0</td>\n",
       "      <td>0</td>\n",
       "      <td>0</td>\n",
       "    </tr>\n",
       "    <tr>\n",
       "      <td>5</td>\n",
       "      <td>0</td>\n",
       "      <td>1</td>\n",
       "      <td>0</td>\n",
       "      <td>0</td>\n",
       "      <td>0</td>\n",
       "      <td>0</td>\n",
       "      <td>0</td>\n",
       "      <td>0</td>\n",
       "      <td>0</td>\n",
       "      <td>0</td>\n",
       "    </tr>\n",
       "    <tr>\n",
       "      <td>6</td>\n",
       "      <td>0</td>\n",
       "      <td>1</td>\n",
       "      <td>0</td>\n",
       "      <td>0</td>\n",
       "      <td>0</td>\n",
       "      <td>0</td>\n",
       "      <td>0</td>\n",
       "      <td>0</td>\n",
       "      <td>0</td>\n",
       "      <td>0</td>\n",
       "    </tr>\n",
       "    <tr>\n",
       "      <td>8</td>\n",
       "      <td>0</td>\n",
       "      <td>0</td>\n",
       "      <td>0</td>\n",
       "      <td>0</td>\n",
       "      <td>1</td>\n",
       "      <td>0</td>\n",
       "      <td>0</td>\n",
       "      <td>0</td>\n",
       "      <td>0</td>\n",
       "      <td>0</td>\n",
       "    </tr>\n",
       "  </tbody>\n",
       "</table>\n",
       "</div>"
      ],
      "text/plain": [
       "   sand_dirt  clear  fog_smoke  other_w  overcast  partly_cloudy  raining  \\\n",
       "0          0      0          0        0         0              0        1   \n",
       "1          0      1          0        0         0              0        0   \n",
       "5          0      1          0        0         0              0        0   \n",
       "6          0      1          0        0         0              0        0   \n",
       "8          0      0          0        0         1              0        0   \n",
       "\n",
       "   crosswind  sleet  snowing  \n",
       "0          0      0        0  \n",
       "1          0      0        0  \n",
       "5          0      0        0  \n",
       "6          0      0        0  \n",
       "8          0      0        0  "
      ]
     },
     "execution_count": 10,
     "metadata": {},
     "output_type": "execute_result"
    }
   ],
   "source": [
    "# one-hot encode WEATHER\n",
    "weather = pd.get_dummies(data.WEATHER)\n",
    "weather.columns = ['sand_dirt', 'clear', 'fog_smoke', 'other_w', 'overcast', 'partly_cloudy', 'raining', 'crosswind', 'sleet', 'snowing']\n",
    "weather.head()"
   ]
  },
  {
   "cell_type": "code",
   "execution_count": 11,
   "metadata": {},
   "outputs": [
    {
     "data": {
      "text/html": [
       "<div>\n",
       "<style scoped>\n",
       "    .dataframe tbody tr th:only-of-type {\n",
       "        vertical-align: middle;\n",
       "    }\n",
       "\n",
       "    .dataframe tbody tr th {\n",
       "        vertical-align: top;\n",
       "    }\n",
       "\n",
       "    .dataframe thead th {\n",
       "        text-align: right;\n",
       "    }\n",
       "</style>\n",
       "<table border=\"1\" class=\"dataframe\">\n",
       "  <thead>\n",
       "    <tr style=\"text-align: right;\">\n",
       "      <th></th>\n",
       "      <th>dark_no_lights</th>\n",
       "      <th>dark_lights_off</th>\n",
       "      <th>dark_lights_on</th>\n",
       "      <th>dark_unknown</th>\n",
       "      <th>dawn</th>\n",
       "      <th>daylight</th>\n",
       "      <th>dusk</th>\n",
       "      <th>other_l</th>\n",
       "    </tr>\n",
       "  </thead>\n",
       "  <tbody>\n",
       "    <tr>\n",
       "      <td>0</td>\n",
       "      <td>0</td>\n",
       "      <td>0</td>\n",
       "      <td>1</td>\n",
       "      <td>0</td>\n",
       "      <td>0</td>\n",
       "      <td>0</td>\n",
       "      <td>0</td>\n",
       "      <td>0</td>\n",
       "    </tr>\n",
       "    <tr>\n",
       "      <td>1</td>\n",
       "      <td>0</td>\n",
       "      <td>0</td>\n",
       "      <td>0</td>\n",
       "      <td>0</td>\n",
       "      <td>0</td>\n",
       "      <td>1</td>\n",
       "      <td>0</td>\n",
       "      <td>0</td>\n",
       "    </tr>\n",
       "    <tr>\n",
       "      <td>5</td>\n",
       "      <td>0</td>\n",
       "      <td>0</td>\n",
       "      <td>0</td>\n",
       "      <td>0</td>\n",
       "      <td>0</td>\n",
       "      <td>1</td>\n",
       "      <td>0</td>\n",
       "      <td>0</td>\n",
       "    </tr>\n",
       "    <tr>\n",
       "      <td>6</td>\n",
       "      <td>0</td>\n",
       "      <td>0</td>\n",
       "      <td>0</td>\n",
       "      <td>0</td>\n",
       "      <td>0</td>\n",
       "      <td>1</td>\n",
       "      <td>0</td>\n",
       "      <td>0</td>\n",
       "    </tr>\n",
       "    <tr>\n",
       "      <td>8</td>\n",
       "      <td>0</td>\n",
       "      <td>0</td>\n",
       "      <td>0</td>\n",
       "      <td>0</td>\n",
       "      <td>0</td>\n",
       "      <td>1</td>\n",
       "      <td>0</td>\n",
       "      <td>0</td>\n",
       "    </tr>\n",
       "  </tbody>\n",
       "</table>\n",
       "</div>"
      ],
      "text/plain": [
       "   dark_no_lights  dark_lights_off  dark_lights_on  dark_unknown  dawn  \\\n",
       "0               0                0               1             0     0   \n",
       "1               0                0               0             0     0   \n",
       "5               0                0               0             0     0   \n",
       "6               0                0               0             0     0   \n",
       "8               0                0               0             0     0   \n",
       "\n",
       "   daylight  dusk  other_l  \n",
       "0         0     0        0  \n",
       "1         1     0        0  \n",
       "5         1     0        0  \n",
       "6         1     0        0  \n",
       "8         1     0        0  "
      ]
     },
     "execution_count": 11,
     "metadata": {},
     "output_type": "execute_result"
    }
   ],
   "source": [
    "# one-hot encode LIGHTCOND\n",
    "light = pd.get_dummies(data.LIGHTCOND)\n",
    "light.columns = ['dark_no_lights', 'dark_lights_off', 'dark_lights_on', 'dark_unknown', 'dawn', 'daylight', 'dusk', 'other_l']\n",
    "light.head()"
   ]
  },
  {
   "cell_type": "code",
   "execution_count": 12,
   "metadata": {},
   "outputs": [
    {
     "data": {
      "text/html": [
       "<div>\n",
       "<style scoped>\n",
       "    .dataframe tbody tr th:only-of-type {\n",
       "        vertical-align: middle;\n",
       "    }\n",
       "\n",
       "    .dataframe tbody tr th {\n",
       "        vertical-align: top;\n",
       "    }\n",
       "\n",
       "    .dataframe thead th {\n",
       "        text-align: right;\n",
       "    }\n",
       "</style>\n",
       "<table border=\"1\" class=\"dataframe\">\n",
       "  <thead>\n",
       "    <tr style=\"text-align: right;\">\n",
       "      <th></th>\n",
       "      <th>dry</th>\n",
       "      <th>ice</th>\n",
       "      <th>oil</th>\n",
       "      <th>other_r</th>\n",
       "      <th>sand</th>\n",
       "      <th>snow</th>\n",
       "      <th>st_water</th>\n",
       "      <th>wet</th>\n",
       "    </tr>\n",
       "  </thead>\n",
       "  <tbody>\n",
       "    <tr>\n",
       "      <td>0</td>\n",
       "      <td>0</td>\n",
       "      <td>0</td>\n",
       "      <td>0</td>\n",
       "      <td>0</td>\n",
       "      <td>0</td>\n",
       "      <td>0</td>\n",
       "      <td>0</td>\n",
       "      <td>1</td>\n",
       "    </tr>\n",
       "    <tr>\n",
       "      <td>1</td>\n",
       "      <td>1</td>\n",
       "      <td>0</td>\n",
       "      <td>0</td>\n",
       "      <td>0</td>\n",
       "      <td>0</td>\n",
       "      <td>0</td>\n",
       "      <td>0</td>\n",
       "      <td>0</td>\n",
       "    </tr>\n",
       "    <tr>\n",
       "      <td>5</td>\n",
       "      <td>1</td>\n",
       "      <td>0</td>\n",
       "      <td>0</td>\n",
       "      <td>0</td>\n",
       "      <td>0</td>\n",
       "      <td>0</td>\n",
       "      <td>0</td>\n",
       "      <td>0</td>\n",
       "    </tr>\n",
       "    <tr>\n",
       "      <td>6</td>\n",
       "      <td>0</td>\n",
       "      <td>0</td>\n",
       "      <td>0</td>\n",
       "      <td>0</td>\n",
       "      <td>0</td>\n",
       "      <td>0</td>\n",
       "      <td>0</td>\n",
       "      <td>1</td>\n",
       "    </tr>\n",
       "    <tr>\n",
       "      <td>8</td>\n",
       "      <td>1</td>\n",
       "      <td>0</td>\n",
       "      <td>0</td>\n",
       "      <td>0</td>\n",
       "      <td>0</td>\n",
       "      <td>0</td>\n",
       "      <td>0</td>\n",
       "      <td>0</td>\n",
       "    </tr>\n",
       "  </tbody>\n",
       "</table>\n",
       "</div>"
      ],
      "text/plain": [
       "   dry  ice  oil  other_r  sand  snow  st_water  wet\n",
       "0    0    0    0        0     0     0         0    1\n",
       "1    1    0    0        0     0     0         0    0\n",
       "5    1    0    0        0     0     0         0    0\n",
       "6    0    0    0        0     0     0         0    1\n",
       "8    1    0    0        0     0     0         0    0"
      ]
     },
     "execution_count": 12,
     "metadata": {},
     "output_type": "execute_result"
    }
   ],
   "source": [
    "# one-hot encode ROADCOND\n",
    "road = pd.get_dummies(data.ROADCOND)\n",
    "road.columns = ['dry', 'ice', 'oil', 'other_r', 'sand', 'snow', 'st_water', 'wet']\n",
    "road.head()"
   ]
  },
  {
   "cell_type": "code",
   "execution_count": 13,
   "metadata": {},
   "outputs": [
    {
     "data": {
      "text/html": [
       "<div>\n",
       "<style scoped>\n",
       "    .dataframe tbody tr th:only-of-type {\n",
       "        vertical-align: middle;\n",
       "    }\n",
       "\n",
       "    .dataframe tbody tr th {\n",
       "        vertical-align: top;\n",
       "    }\n",
       "\n",
       "    .dataframe thead th {\n",
       "        text-align: right;\n",
       "    }\n",
       "</style>\n",
       "<table border=\"1\" class=\"dataframe\">\n",
       "  <thead>\n",
       "    <tr style=\"text-align: right;\">\n",
       "      <th></th>\n",
       "      <th>severity</th>\n",
       "      <th>addr_type</th>\n",
       "      <th>inattention_ind</th>\n",
       "      <th>under_infl</th>\n",
       "      <th>speeding</th>\n",
       "      <th>ped_cyl</th>\n",
       "      <th>sand_dirt</th>\n",
       "      <th>clear</th>\n",
       "      <th>fog_smoke</th>\n",
       "      <th>other_w</th>\n",
       "      <th>...</th>\n",
       "      <th>dusk</th>\n",
       "      <th>other_l</th>\n",
       "      <th>dry</th>\n",
       "      <th>ice</th>\n",
       "      <th>oil</th>\n",
       "      <th>other_r</th>\n",
       "      <th>sand</th>\n",
       "      <th>snow</th>\n",
       "      <th>st_water</th>\n",
       "      <th>wet</th>\n",
       "    </tr>\n",
       "  </thead>\n",
       "  <tbody>\n",
       "    <tr>\n",
       "      <td>0</td>\n",
       "      <td>0</td>\n",
       "      <td>0</td>\n",
       "      <td>0</td>\n",
       "      <td>0</td>\n",
       "      <td>0</td>\n",
       "      <td>0</td>\n",
       "      <td>0</td>\n",
       "      <td>0</td>\n",
       "      <td>0</td>\n",
       "      <td>0</td>\n",
       "      <td>...</td>\n",
       "      <td>0</td>\n",
       "      <td>0</td>\n",
       "      <td>0</td>\n",
       "      <td>0</td>\n",
       "      <td>0</td>\n",
       "      <td>0</td>\n",
       "      <td>0</td>\n",
       "      <td>0</td>\n",
       "      <td>0</td>\n",
       "      <td>1</td>\n",
       "    </tr>\n",
       "    <tr>\n",
       "      <td>1</td>\n",
       "      <td>0</td>\n",
       "      <td>0</td>\n",
       "      <td>0</td>\n",
       "      <td>0</td>\n",
       "      <td>0</td>\n",
       "      <td>0</td>\n",
       "      <td>0</td>\n",
       "      <td>1</td>\n",
       "      <td>0</td>\n",
       "      <td>0</td>\n",
       "      <td>...</td>\n",
       "      <td>0</td>\n",
       "      <td>0</td>\n",
       "      <td>1</td>\n",
       "      <td>0</td>\n",
       "      <td>0</td>\n",
       "      <td>0</td>\n",
       "      <td>0</td>\n",
       "      <td>0</td>\n",
       "      <td>0</td>\n",
       "      <td>0</td>\n",
       "    </tr>\n",
       "    <tr>\n",
       "      <td>5</td>\n",
       "      <td>0</td>\n",
       "      <td>0</td>\n",
       "      <td>0</td>\n",
       "      <td>0</td>\n",
       "      <td>0</td>\n",
       "      <td>0</td>\n",
       "      <td>0</td>\n",
       "      <td>1</td>\n",
       "      <td>0</td>\n",
       "      <td>0</td>\n",
       "      <td>...</td>\n",
       "      <td>0</td>\n",
       "      <td>0</td>\n",
       "      <td>1</td>\n",
       "      <td>0</td>\n",
       "      <td>0</td>\n",
       "      <td>0</td>\n",
       "      <td>0</td>\n",
       "      <td>0</td>\n",
       "      <td>0</td>\n",
       "      <td>0</td>\n",
       "    </tr>\n",
       "    <tr>\n",
       "      <td>6</td>\n",
       "      <td>0</td>\n",
       "      <td>0</td>\n",
       "      <td>0</td>\n",
       "      <td>0</td>\n",
       "      <td>1</td>\n",
       "      <td>0</td>\n",
       "      <td>0</td>\n",
       "      <td>1</td>\n",
       "      <td>0</td>\n",
       "      <td>0</td>\n",
       "      <td>...</td>\n",
       "      <td>0</td>\n",
       "      <td>0</td>\n",
       "      <td>0</td>\n",
       "      <td>0</td>\n",
       "      <td>0</td>\n",
       "      <td>0</td>\n",
       "      <td>0</td>\n",
       "      <td>0</td>\n",
       "      <td>0</td>\n",
       "      <td>1</td>\n",
       "    </tr>\n",
       "    <tr>\n",
       "      <td>8</td>\n",
       "      <td>0</td>\n",
       "      <td>1</td>\n",
       "      <td>0</td>\n",
       "      <td>0</td>\n",
       "      <td>0</td>\n",
       "      <td>0</td>\n",
       "      <td>0</td>\n",
       "      <td>0</td>\n",
       "      <td>0</td>\n",
       "      <td>0</td>\n",
       "      <td>...</td>\n",
       "      <td>0</td>\n",
       "      <td>0</td>\n",
       "      <td>1</td>\n",
       "      <td>0</td>\n",
       "      <td>0</td>\n",
       "      <td>0</td>\n",
       "      <td>0</td>\n",
       "      <td>0</td>\n",
       "      <td>0</td>\n",
       "      <td>0</td>\n",
       "    </tr>\n",
       "  </tbody>\n",
       "</table>\n",
       "<p>5 rows × 32 columns</p>\n",
       "</div>"
      ],
      "text/plain": [
       "   severity  addr_type  inattention_ind  under_infl  speeding  ped_cyl  \\\n",
       "0         0          0                0           0         0        0   \n",
       "1         0          0                0           0         0        0   \n",
       "5         0          0                0           0         0        0   \n",
       "6         0          0                0           0         1        0   \n",
       "8         0          1                0           0         0        0   \n",
       "\n",
       "   sand_dirt  clear  fog_smoke  other_w  ...  dusk  other_l  dry  ice  oil  \\\n",
       "0          0      0          0        0  ...     0        0    0    0    0   \n",
       "1          0      1          0        0  ...     0        0    1    0    0   \n",
       "5          0      1          0        0  ...     0        0    1    0    0   \n",
       "6          0      1          0        0  ...     0        0    0    0    0   \n",
       "8          0      0          0        0  ...     0        0    1    0    0   \n",
       "\n",
       "   other_r  sand  snow  st_water  wet  \n",
       "0        0     0     0         0    1  \n",
       "1        0     0     0         0    0  \n",
       "5        0     0     0         0    0  \n",
       "6        0     0     0         0    1  \n",
       "8        0     0     0         0    0  \n",
       "\n",
       "[5 rows x 32 columns]"
      ]
     },
     "execution_count": 13,
     "metadata": {},
     "output_type": "execute_result"
    }
   ],
   "source": [
    "# rebuild dataset with encoded features\n",
    "data = data[['SEVERITYCODE', 'ADDRTYPE', 'INATTENTIONIND', 'UNDERINFL', 'SPEEDING', 'PEDCYL']]\n",
    "data.columns = ['severity', 'addr_type', 'inattention_ind', 'under_infl', 'speeding', 'ped_cyl']\n",
    "data = pd.concat([data, weather, light, road], axis=1).astype(int)\n",
    "data.head()"
   ]
  },
  {
   "cell_type": "code",
   "execution_count": 14,
   "metadata": {},
   "outputs": [
    {
     "data": {
      "text/plain": [
       "(174425, 32)"
      ]
     },
     "execution_count": 14,
     "metadata": {},
     "output_type": "execute_result"
    }
   ],
   "source": [
    "data.shape"
   ]
  },
  {
   "cell_type": "code",
   "execution_count": 15,
   "metadata": {},
   "outputs": [],
   "source": [
    "# build summary table of inferential testing\n",
    "from scipy import stats\n",
    "statistics = data.sum().to_frame()\n",
    "statistics.columns = ['collisions']\n",
    "for feature in statistics.index:\n",
    "    statistics.loc[feature, 'injury_perc'] = data[data[feature]==1].severity.mean()\n",
    "    pc = stats.pearsonr(data.severity, data[feature])\n",
    "    statistics.loc[feature, 'corr'] = pc[0]\n",
    "    statistics.loc[feature, 'p_val'] = pc[1]"
   ]
  },
  {
   "cell_type": "code",
   "execution_count": 16,
   "metadata": {},
   "outputs": [
    {
     "data": {
      "text/html": [
       "<div>\n",
       "<style scoped>\n",
       "    .dataframe tbody tr th:only-of-type {\n",
       "        vertical-align: middle;\n",
       "    }\n",
       "\n",
       "    .dataframe tbody tr th {\n",
       "        vertical-align: top;\n",
       "    }\n",
       "\n",
       "    .dataframe thead th {\n",
       "        text-align: right;\n",
       "    }\n",
       "</style>\n",
       "<table border=\"1\" class=\"dataframe\">\n",
       "  <thead>\n",
       "    <tr style=\"text-align: right;\">\n",
       "      <th></th>\n",
       "      <th>collisions</th>\n",
       "      <th>injury_perc</th>\n",
       "      <th>corr</th>\n",
       "      <th>p_val</th>\n",
       "    </tr>\n",
       "  </thead>\n",
       "  <tbody>\n",
       "    <tr>\n",
       "      <td>severity</td>\n",
       "      <td>59626</td>\n",
       "      <td>1.0000</td>\n",
       "      <td>1.0000</td>\n",
       "      <td>0.0000</td>\n",
       "    </tr>\n",
       "    <tr>\n",
       "      <td>ped_cyl</td>\n",
       "      <td>13412</td>\n",
       "      <td>0.9035</td>\n",
       "      <td>0.3418</td>\n",
       "      <td>0.0000</td>\n",
       "    </tr>\n",
       "    <tr>\n",
       "      <td>addr_type</td>\n",
       "      <td>63791</td>\n",
       "      <td>0.4525</td>\n",
       "      <td>0.1771</td>\n",
       "      <td>0.0000</td>\n",
       "    </tr>\n",
       "    <tr>\n",
       "      <td>under_infl</td>\n",
       "      <td>9428</td>\n",
       "      <td>0.4236</td>\n",
       "      <td>0.0412</td>\n",
       "      <td>0.0000</td>\n",
       "    </tr>\n",
       "    <tr>\n",
       "      <td>speeding</td>\n",
       "      <td>9653</td>\n",
       "      <td>0.4111</td>\n",
       "      <td>0.0353</td>\n",
       "      <td>0.0000</td>\n",
       "    </tr>\n",
       "    <tr>\n",
       "      <td>daylight</td>\n",
       "      <td>115250</td>\n",
       "      <td>0.3506</td>\n",
       "      <td>0.0258</td>\n",
       "      <td>0.0000</td>\n",
       "    </tr>\n",
       "    <tr>\n",
       "      <td>inattention_ind</td>\n",
       "      <td>28826</td>\n",
       "      <td>0.3674</td>\n",
       "      <td>0.0240</td>\n",
       "      <td>0.0000</td>\n",
       "    </tr>\n",
       "    <tr>\n",
       "      <td>raining</td>\n",
       "      <td>33393</td>\n",
       "      <td>0.3519</td>\n",
       "      <td>0.0103</td>\n",
       "      <td>0.0000</td>\n",
       "    </tr>\n",
       "    <tr>\n",
       "      <td>wet</td>\n",
       "      <td>47400</td>\n",
       "      <td>0.3480</td>\n",
       "      <td>0.0079</td>\n",
       "      <td>0.0010</td>\n",
       "    </tr>\n",
       "    <tr>\n",
       "      <td>dusk</td>\n",
       "      <td>5781</td>\n",
       "      <td>0.3520</td>\n",
       "      <td>0.0040</td>\n",
       "      <td>0.0973</td>\n",
       "    </tr>\n",
       "    <tr>\n",
       "      <td>other_r</td>\n",
       "      <td>109</td>\n",
       "      <td>0.4128</td>\n",
       "      <td>0.0037</td>\n",
       "      <td>0.1180</td>\n",
       "    </tr>\n",
       "    <tr>\n",
       "      <td>dawn</td>\n",
       "      <td>2512</td>\n",
       "      <td>0.3523</td>\n",
       "      <td>0.0027</td>\n",
       "      <td>0.2653</td>\n",
       "    </tr>\n",
       "    <tr>\n",
       "      <td>partly_cloudy</td>\n",
       "      <td>10</td>\n",
       "      <td>0.5000</td>\n",
       "      <td>0.0025</td>\n",
       "      <td>0.2917</td>\n",
       "    </tr>\n",
       "    <tr>\n",
       "      <td>oil</td>\n",
       "      <td>61</td>\n",
       "      <td>0.3934</td>\n",
       "      <td>0.0020</td>\n",
       "      <td>0.3954</td>\n",
       "    </tr>\n",
       "    <tr>\n",
       "      <td>dark_unknown</td>\n",
       "      <td>21</td>\n",
       "      <td>0.3810</td>\n",
       "      <td>0.0009</td>\n",
       "      <td>0.7055</td>\n",
       "    </tr>\n",
       "    <tr>\n",
       "      <td>clear</td>\n",
       "      <td>111604</td>\n",
       "      <td>0.3420</td>\n",
       "      <td>0.0004</td>\n",
       "      <td>0.8587</td>\n",
       "    </tr>\n",
       "    <tr>\n",
       "      <td>sand</td>\n",
       "      <td>61</td>\n",
       "      <td>0.3443</td>\n",
       "      <td>0.0001</td>\n",
       "      <td>0.9682</td>\n",
       "    </tr>\n",
       "    <tr>\n",
       "      <td>fog_smoke</td>\n",
       "      <td>554</td>\n",
       "      <td>0.3412</td>\n",
       "      <td>-0.0001</td>\n",
       "      <td>0.9727</td>\n",
       "    </tr>\n",
       "    <tr>\n",
       "      <td>other_w</td>\n",
       "      <td>262</td>\n",
       "      <td>0.3321</td>\n",
       "      <td>-0.0008</td>\n",
       "      <td>0.7383</td>\n",
       "    </tr>\n",
       "    <tr>\n",
       "      <td>crosswind</td>\n",
       "      <td>26</td>\n",
       "      <td>0.3077</td>\n",
       "      <td>-0.0009</td>\n",
       "      <td>0.7135</td>\n",
       "    </tr>\n",
       "    <tr>\n",
       "      <td>sand_dirt</td>\n",
       "      <td>43</td>\n",
       "      <td>0.3023</td>\n",
       "      <td>-0.0013</td>\n",
       "      <td>0.5848</td>\n",
       "    </tr>\n",
       "    <tr>\n",
       "      <td>dry</td>\n",
       "      <td>124730</td>\n",
       "      <td>0.3412</td>\n",
       "      <td>-0.0020</td>\n",
       "      <td>0.3947</td>\n",
       "    </tr>\n",
       "    <tr>\n",
       "      <td>st_water</td>\n",
       "      <td>108</td>\n",
       "      <td>0.2963</td>\n",
       "      <td>-0.0024</td>\n",
       "      <td>0.3182</td>\n",
       "    </tr>\n",
       "    <tr>\n",
       "      <td>sleet</td>\n",
       "      <td>113</td>\n",
       "      <td>0.2655</td>\n",
       "      <td>-0.0041</td>\n",
       "      <td>0.0869</td>\n",
       "    </tr>\n",
       "    <tr>\n",
       "      <td>other_l</td>\n",
       "      <td>202</td>\n",
       "      <td>0.2723</td>\n",
       "      <td>-0.0050</td>\n",
       "      <td>0.0370</td>\n",
       "    </tr>\n",
       "    <tr>\n",
       "      <td>dark_lights_off</td>\n",
       "      <td>1138</td>\n",
       "      <td>0.3005</td>\n",
       "      <td>-0.0071</td>\n",
       "      <td>0.0032</td>\n",
       "    </tr>\n",
       "    <tr>\n",
       "      <td>overcast</td>\n",
       "      <td>27583</td>\n",
       "      <td>0.3335</td>\n",
       "      <td>-0.0076</td>\n",
       "      <td>0.0015</td>\n",
       "    </tr>\n",
       "    <tr>\n",
       "      <td>ice</td>\n",
       "      <td>1108</td>\n",
       "      <td>0.2572</td>\n",
       "      <td>-0.0143</td>\n",
       "      <td>0.0000</td>\n",
       "    </tr>\n",
       "    <tr>\n",
       "      <td>dark_no_lights</td>\n",
       "      <td>1407</td>\n",
       "      <td>0.2480</td>\n",
       "      <td>-0.0178</td>\n",
       "      <td>0.0000</td>\n",
       "    </tr>\n",
       "    <tr>\n",
       "      <td>snowing</td>\n",
       "      <td>837</td>\n",
       "      <td>0.2079</td>\n",
       "      <td>-0.0196</td>\n",
       "      <td>0.0000</td>\n",
       "    </tr>\n",
       "    <tr>\n",
       "      <td>snow</td>\n",
       "      <td>848</td>\n",
       "      <td>0.1922</td>\n",
       "      <td>-0.0220</td>\n",
       "      <td>0.0000</td>\n",
       "    </tr>\n",
       "    <tr>\n",
       "      <td>dark_lights_on</td>\n",
       "      <td>48114</td>\n",
       "      <td>0.3231</td>\n",
       "      <td>-0.0244</td>\n",
       "      <td>0.0000</td>\n",
       "    </tr>\n",
       "  </tbody>\n",
       "</table>\n",
       "</div>"
      ],
      "text/plain": [
       "                 collisions  injury_perc    corr   p_val\n",
       "severity              59626       1.0000  1.0000  0.0000\n",
       "ped_cyl               13412       0.9035  0.3418  0.0000\n",
       "addr_type             63791       0.4525  0.1771  0.0000\n",
       "under_infl             9428       0.4236  0.0412  0.0000\n",
       "speeding               9653       0.4111  0.0353  0.0000\n",
       "daylight             115250       0.3506  0.0258  0.0000\n",
       "inattention_ind       28826       0.3674  0.0240  0.0000\n",
       "raining               33393       0.3519  0.0103  0.0000\n",
       "wet                   47400       0.3480  0.0079  0.0010\n",
       "dusk                   5781       0.3520  0.0040  0.0973\n",
       "other_r                 109       0.4128  0.0037  0.1180\n",
       "dawn                   2512       0.3523  0.0027  0.2653\n",
       "partly_cloudy            10       0.5000  0.0025  0.2917\n",
       "oil                      61       0.3934  0.0020  0.3954\n",
       "dark_unknown             21       0.3810  0.0009  0.7055\n",
       "clear                111604       0.3420  0.0004  0.8587\n",
       "sand                     61       0.3443  0.0001  0.9682\n",
       "fog_smoke               554       0.3412 -0.0001  0.9727\n",
       "other_w                 262       0.3321 -0.0008  0.7383\n",
       "crosswind                26       0.3077 -0.0009  0.7135\n",
       "sand_dirt                43       0.3023 -0.0013  0.5848\n",
       "dry                  124730       0.3412 -0.0020  0.3947\n",
       "st_water                108       0.2963 -0.0024  0.3182\n",
       "sleet                   113       0.2655 -0.0041  0.0869\n",
       "other_l                 202       0.2723 -0.0050  0.0370\n",
       "dark_lights_off        1138       0.3005 -0.0071  0.0032\n",
       "overcast              27583       0.3335 -0.0076  0.0015\n",
       "ice                    1108       0.2572 -0.0143  0.0000\n",
       "dark_no_lights         1407       0.2480 -0.0178  0.0000\n",
       "snowing                 837       0.2079 -0.0196  0.0000\n",
       "snow                    848       0.1922 -0.0220  0.0000\n",
       "dark_lights_on        48114       0.3231 -0.0244  0.0000"
      ]
     },
     "execution_count": 16,
     "metadata": {},
     "output_type": "execute_result"
    }
   ],
   "source": [
    "# sort and display table\n",
    "statistics.sort_values('corr', ascending=False, inplace=True)\n",
    "statistics.round(4)"
   ]
  },
  {
   "cell_type": "code",
   "execution_count": 17,
   "metadata": {},
   "outputs": [
    {
     "data": {
      "text/plain": [
       "Text(0, 0.5, 'Correlation')"
      ]
     },
     "execution_count": 17,
     "metadata": {},
     "output_type": "execute_result"
    },
    {
     "data": {
      "image/png": "[encoded data removed]",
      "text/plain": [
       "<Figure size 432x288 with 1 Axes>"
      ]
     },
     "metadata": {
      "needs_background": "light"
     },
     "output_type": "display_data"
    }
   ],
   "source": [
    "# plot statistically significant Pearson correlations\n",
    "statistics[statistics.p_val < 0.001]['corr'].iloc[1:].plot.bar()\n",
    "plt.xlabel('Feature')\n",
    "plt.ylabel('Correlation')"
   ]
  },
  {
   "cell_type": "code",
   "execution_count": 56,
   "metadata": {},
   "outputs": [
    {
     "data": {
      "text/plain": [
       "((122097, 31), (122097,))"
      ]
     },
     "execution_count": 56,
     "metadata": {},
     "output_type": "execute_result"
    }
   ],
   "source": [
    "# split data into training and test sets\n",
    "X = data.iloc[:, 1:]\n",
    "y = data.iloc[:, 0]\n",
    "X_train, X_test, y_train, y_test = train_test_split(X, y, test_size=0.3, random_state=3)\n",
    "X_train.shape, y_train.shape"
   ]
  },
  {
   "cell_type": "code",
   "execution_count": 58,
   "metadata": {},
   "outputs": [
    {
     "name": "stdout",
     "output_type": "stream",
     "text": [
      "DecisionTrees's Accuracy:  0.721\n",
      "DecisionTrees's F1 Score:  0.659\n",
      "Normalized confusion matrix\n",
      "[[0.984 0.016]\n",
      " [0.785 0.215]]\n"
     ]
    },
    {
     "data": {
      "image/png": "[encoded data removed]",
      "text/plain": [
       "<Figure size 432x288 with 2 Axes>"
      ]
     },
     "metadata": {
      "needs_background": "light"
     },
     "output_type": "display_data"
    }
   ],
   "source": [
    "# test decision tree on unbalanced data for benchmark\n",
    "accidentTree = DecisionTreeClassifier(criterion=\"entropy\", max_depth = 4)\n",
    "accidentTree.fit(X_train,y_train)\n",
    "yhat = accidentTree.predict(X_test)\n",
    "print(\"DecisionTrees's Accuracy: \", metrics.accuracy_score(y_test, yhat).round(3))\n",
    "print(\"DecisionTrees's F1 Score: \", metrics.f1_score(y_test, yhat, average='weighted').round(3))\n",
    "\n",
    "# Compute confusion matrix\n",
    "cnf_matrix = confusion_matrix(y_test, yhat)\n",
    "np.set_printoptions(precision=2)\n",
    "\n",
    "# Plot non-normalized confusion matrix\n",
    "plt.figure()\n",
    "plot_confusion_matrix(cnf_matrix, classes=[1, 0],normalize= True,  title='Confusion matrix')"
   ]
  },
  {
   "cell_type": "code",
   "execution_count": 46,
   "metadata": {},
   "outputs": [
    {
     "data": {
      "text/plain": [
       "1    114799\n",
       "0    114799\n",
       "Name: severity, dtype: int64"
      ]
     },
     "execution_count": 46,
     "metadata": {},
     "output_type": "execute_result"
    }
   ],
   "source": [
    "# rebalance target with upsampling\n",
    "# Separate majority and minority classes\n",
    "df_minority = data[data.severity==1]\n",
    "df_majority = data[data.severity==0]\n",
    " \n",
    "# Upsample minority class\n",
    "df_minority_upsampled = resample(df_minority, \n",
    "                                 replace=True,     # sample with replacement\n",
    "                                 n_samples=114799,    # to match majority class\n",
    "                                 random_state=123) # reproducible results\n",
    " \n",
    "# Combine majority class with upsampled minority class\n",
    "df_upsampled = pd.concat([df_majority, df_minority_upsampled])\n",
    " \n",
    "# Display new class counts\n",
    "df_upsampled.severity.value_counts()"
   ]
  },
  {
   "cell_type": "code",
   "execution_count": 47,
   "metadata": {},
   "outputs": [
    {
     "data": {
      "text/plain": [
       "1    59626\n",
       "0    59626\n",
       "Name: severity, dtype: int64"
      ]
     },
     "execution_count": 47,
     "metadata": {},
     "output_type": "execute_result"
    }
   ],
   "source": [
    "# rebalance target with downsampling\n",
    "# Separate majority and minority classes\n",
    "df_minority = data[data.severity==1]\n",
    "df_majority = data[data.severity==0]\n",
    " \n",
    "# Upsample minority class\n",
    "df_majority_downsampled = resample(df_majority, \n",
    "                                 replace=False,     # sample with replacement\n",
    "                                 n_samples=59626,    # to match majority class\n",
    "                                 random_state=123) # reproducible results\n",
    " \n",
    "# Combine majority class with upsampled minority class\n",
    "df_downsampled = pd.concat([df_minority, df_majority_downsampled])\n",
    " \n",
    "# Display new class counts\n",
    "df_downsampled.severity.value_counts()"
   ]
  },
  {
   "cell_type": "code",
   "execution_count": 48,
   "metadata": {},
   "outputs": [
    {
     "name": "stdout",
     "output_type": "stream",
     "text": [
      "Upsampled DecisionTrees's Accuracy:  0.628\n",
      "Upsampled DecisionTrees's F1 Score:  0.628\n",
      "Normalized confusion matrix\n",
      "[[0.651 0.349]\n",
      " [0.395 0.605]]\n"
     ]
    },
    {
     "data": {
      "image/png": "[encoded data removed]",
      "text/plain": [
       "<Figure size 432x288 with 2 Axes>"
      ]
     },
     "metadata": {
      "needs_background": "light"
     },
     "output_type": "display_data"
    }
   ],
   "source": [
    "# test upsampled decision tree\n",
    "X = df_upsampled.iloc[:, 1:]\n",
    "y = df_upsampled.iloc[:, 0]\n",
    "\n",
    "X_train, X_test, y_train, y_test = train_test_split(X, y, test_size=0.3, random_state=3)\n",
    "accidentTree = DecisionTreeClassifier(criterion=\"entropy\", max_depth = 3)\n",
    "accidentTree.fit(X_train,y_train)\n",
    "yhat = accidentTree.predict(X_test)\n",
    "\n",
    "print(\"Upsampled DecisionTrees's Accuracy: \", metrics.accuracy_score(y_test, yhat).round(3))\n",
    "print(\"Upsampled DecisionTrees's F1 Score: \", metrics.f1_score(y_test, yhat, average='weighted').round(3))\n",
    "\n",
    "# Compute confusion matrix\n",
    "cnf_matrix = confusion_matrix(y_test, yhat)\n",
    "np.set_printoptions(precision=2)\n",
    "\n",
    "\n",
    "# Plot non-normalized confusion matrix\n",
    "plt.figure()\n",
    "plot_confusion_matrix(cnf_matrix, classes=[1, 0],normalize= True,  title='Confusion matrix')"
   ]
  },
  {
   "cell_type": "code",
   "execution_count": 49,
   "metadata": {},
   "outputs": [
    {
     "name": "stdout",
     "output_type": "stream",
     "text": [
      "Upsampled DecisionTrees's Accuracy:  0.629\n",
      "Upsampled DecisionTrees's F1 Score:  0.629\n",
      "Normalized confusion matrix\n",
      "[[0.657 0.343]\n",
      " [0.398 0.602]]\n"
     ]
    },
    {
     "data": {
      "image/png": "[encoded data removed]",
      "text/plain": [
       "<Figure size 432x288 with 2 Axes>"
      ]
     },
     "metadata": {
      "needs_background": "light"
     },
     "output_type": "display_data"
    }
   ],
   "source": [
    "# test downsampled decision tree\n",
    "X = df_downsampled.iloc[:, 1:]\n",
    "y = df_downsampled.iloc[:, 0]\n",
    "\n",
    "X_train, X_test, y_train, y_test = train_test_split(X, y, test_size=0.3, random_state=3)\n",
    "accidentTree = DecisionTreeClassifier(criterion=\"entropy\", max_depth = 3)\n",
    "accidentTree.fit(X_train,y_train)\n",
    "yhat = accidentTree.predict(X_test)\n",
    "\n",
    "print(\"Upsampled DecisionTrees's Accuracy: \", metrics.accuracy_score(y_test, yhat).round(3))\n",
    "print(\"Upsampled DecisionTrees's F1 Score: \", metrics.f1_score(y_test, yhat, average='weighted').round(3))\n",
    "\n",
    "# Compute confusion matrix\n",
    "cnf_matrix = confusion_matrix(y_test, yhat)\n",
    "np.set_printoptions(precision=2)\n",
    "\n",
    "\n",
    "# Plot non-normalized confusion matrix\n",
    "plt.figure()\n",
    "plot_confusion_matrix(cnf_matrix, classes=[1, 0],normalize= True,  title='Confusion matrix')"
   ]
  },
  {
   "cell_type": "code",
   "execution_count": 50,
   "metadata": {},
   "outputs": [
    {
     "data": {
      "text/plain": [
       "Text(0, 0.5, 'Accuracy')"
      ]
     },
     "execution_count": 50,
     "metadata": {},
     "output_type": "execute_result"
    },
    {
     "data": {
      "image/png": "[encoded data removed]",
      "text/plain": [
       "<Figure size 432x288 with 1 Axes>"
      ]
     },
     "metadata": {
      "needs_background": "light"
     },
     "output_type": "display_data"
    }
   ],
   "source": [
    "# test sensitivity of max branches\n",
    "max_branch = 15\n",
    "acc = np.zeros(max_branch + 1)\n",
    "for max_depth in range(1, max_branch + 1):\n",
    "    accTree = DecisionTreeClassifier(criterion=\"entropy\", max_depth = max_depth)\n",
    "    accTree.fit(X_train,y_train)\n",
    "    predTree = accTree.predict(X_test)\n",
    "    acc[max_depth] = metrics.accuracy_score(y_test, predTree)\n",
    "plt.plot(range(1, max_branch + 1), acc[1:], lw=3)\n",
    "plt.xlabel('Branches')\n",
    "plt.ylabel('Accuracy')"
   ]
  },
  {
   "cell_type": "code",
   "execution_count": 51,
   "metadata": {},
   "outputs": [
    {
     "name": "stdout",
     "output_type": "stream",
     "text": [
      "Upsampled DecisionTrees's Accuracy:  0.63\n",
      "Upsampled DecisionTrees's F1 Score:  0.629\n",
      "Normalized confusion matrix\n",
      "[[0.679 0.321]\n",
      " [0.419 0.581]]\n"
     ]
    },
    {
     "data": {
      "image/png": "[encoded data removed]",
      "text/plain": [
       "<Figure size 432x288 with 2 Axes>"
      ]
     },
     "metadata": {
      "needs_background": "light"
     },
     "output_type": "display_data"
    }
   ],
   "source": [
    "# compute metrics for optimal tree\n",
    "accidentTree = DecisionTreeClassifier(criterion=\"entropy\", max_depth = 5)\n",
    "accidentTree.fit(X_train,y_train)\n",
    "yhat = accidentTree.predict(X_test)\n",
    "\n",
    "# Compute confusion matrix\n",
    "cnf_matrix = confusion_matrix(y_test, predTree)\n",
    "np.set_printoptions(precision=2)\n",
    "\n",
    "print(\"Upsampled DecisionTrees's Accuracy: \", metrics.accuracy_score(y_test, yhat).round(3))\n",
    "print(\"Upsampled DecisionTrees's F1 Score: \", metrics.f1_score(y_test, yhat, average='weighted').round(3))\n",
    "\n",
    "# Compute confusion matrix\n",
    "cnf_matrix = confusion_matrix(y_test, yhat)\n",
    "np.set_printoptions(precision=2)\n",
    "\n",
    "\n",
    "# Plot non-normalized confusion matrix\n",
    "plt.figure()\n",
    "plot_confusion_matrix(cnf_matrix, classes=[1, 0],normalize= True,  title='Confusion matrix')"
   ]
  },
  {
   "cell_type": "code",
   "execution_count": 52,
   "metadata": {},
   "outputs": [
    {
     "name": "stdout",
     "output_type": "stream",
     "text": [
      "Upsampled DecisionTrees's Accuracy:  0.629\n",
      "Upsampled DecisionTrees's F1 Score:  0.629\n",
      "Normalized confusion matrix\n",
      "[[0.657 0.343]\n",
      " [0.398 0.602]]\n"
     ]
    },
    {
     "data": {
      "image/png": "[encoded data removed]",
      "text/plain": [
       "<Figure size 432x288 with 2 Axes>"
      ]
     },
     "metadata": {
      "needs_background": "light"
     },
     "output_type": "display_data"
    }
   ],
   "source": [
    "# compute metrics for preferred tree\n",
    "accidentTree = DecisionTreeClassifier(criterion=\"entropy\", max_depth = 3)\n",
    "accidentTree.fit(X_train,y_train)\n",
    "yhat = accidentTree.predict(X_test)\n",
    "\n",
    "# Compute confusion matrix\n",
    "cnf_matrix = confusion_matrix(y_test, predTree)\n",
    "np.set_printoptions(precision=2)\n",
    "\n",
    "print(\"Upsampled DecisionTrees's Accuracy: \", metrics.accuracy_score(y_test, yhat).round(3))\n",
    "print(\"Upsampled DecisionTrees's F1 Score: \", metrics.f1_score(y_test, yhat, average='weighted').round(3))\n",
    "\n",
    "# Compute confusion matrix\n",
    "cnf_matrix = confusion_matrix(y_test, yhat)\n",
    "np.set_printoptions(precision=2)\n",
    "\n",
    "\n",
    "# Plot non-normalized confusion matrix\n",
    "plt.figure()\n",
    "plot_confusion_matrix(cnf_matrix, classes=[1, 0],normalize= True,  title='Confusion matrix')"
   ]
  },
  {
   "cell_type": "code",
   "execution_count": 53,
   "metadata": {
    "scrolled": false
   },
   "outputs": [
    {
     "data": {
      "image/svg+xml": [
       "<?xml version=\"1.0\" encoding=\"UTF-8\" standalone=\"no\"?>\r\n",
       "<!DOCTYPE svg PUBLIC \"-//W3C//DTD SVG 1.1//EN\"\r\n",
       " \"http://www.w3.org/Graphics/SVG/1.1/DTD/svg11.dtd\">\r\n",
       "<!-- Generated by graphviz version 2.38.0 (20140413.2041)\r\n",
       " -->\r\n",
       "<!-- Title: Tree Pages: 1 -->\r\n",
       "<svg width=\"882pt\" height=\"373pt\"\r\n",
       " viewBox=\"0.00 0.00 881.50 373.00\" xmlns=\"http://www.w3.org/2000/svg\" xmlns:xlink=\"http://www.w3.org/1999/xlink\">\r\n",
       "<g id=\"graph0\" class=\"graph\" transform=\"scale(1 1) rotate(0) translate(4 369)\">\r\n",
       "<title>Tree</title>\r\n",
       "<polygon fill=\"white\" stroke=\"none\" points=\"-4,4 -4,-369 877.5,-369 877.5,4 -4,4\"/>\r\n",
       "<!-- 0 -->\r\n",
       "<g id=\"node1\" class=\"node\"><title>0</title>\r\n",
       "<polygon fill=\"#fffffe\" stroke=\"black\" points=\"636,-365 491,-365 491,-297 636,-297 636,-365\"/>\r\n",
       "<text text-anchor=\"middle\" x=\"563.5\" y=\"-349.8\" font-family=\"Times New Roman,serif\" font-size=\"14.00\">ped_cyl &lt;= 0.5</text>\r\n",
       "<text text-anchor=\"middle\" x=\"563.5\" y=\"-334.8\" font-family=\"Times New Roman,serif\" font-size=\"14.00\">entropy = 1.0</text>\r\n",
       "<text text-anchor=\"middle\" x=\"563.5\" y=\"-319.8\" font-family=\"Times New Roman,serif\" font-size=\"14.00\">samples = 83476</text>\r\n",
       "<text text-anchor=\"middle\" x=\"563.5\" y=\"-304.8\" font-family=\"Times New Roman,serif\" font-size=\"14.00\">value = [41798, 41678]</text>\r\n",
       "</g>\r\n",
       "<!-- 1 -->\r\n",
       "<g id=\"node2\" class=\"node\"><title>1</title>\r\n",
       "<polygon fill=\"#fae6d8\" stroke=\"black\" points=\"525,-261 380,-261 380,-193 525,-193 525,-261\"/>\r\n",
       "<text text-anchor=\"middle\" x=\"452.5\" y=\"-245.8\" font-family=\"Times New Roman,serif\" font-size=\"14.00\">addr_type &lt;= 0.5</text>\r\n",
       "<text text-anchor=\"middle\" x=\"452.5\" y=\"-230.8\" font-family=\"Times New Roman,serif\" font-size=\"14.00\">entropy = 0.991</text>\r\n",
       "<text text-anchor=\"middle\" x=\"452.5\" y=\"-215.8\" font-family=\"Times New Roman,serif\" font-size=\"14.00\">samples = 74523</text>\r\n",
       "<text text-anchor=\"middle\" x=\"452.5\" y=\"-200.8\" font-family=\"Times New Roman,serif\" font-size=\"14.00\">value = [41345, 33178]</text>\r\n",
       "</g>\r\n",
       "<!-- 0&#45;&gt;1 -->\r\n",
       "<g id=\"edge1\" class=\"edge\"><title>0&#45;&gt;1</title>\r\n",
       "<path fill=\"none\" stroke=\"black\" d=\"M527.461,-296.884C517.477,-287.709 506.531,-277.65 496.163,-268.123\"/>\r\n",
       "<polygon fill=\"black\" stroke=\"black\" points=\"498.469,-265.488 488.738,-261.299 493.733,-270.643 498.469,-265.488\"/>\r\n",
       "<text text-anchor=\"middle\" x=\"489.793\" y=\"-282.577\" font-family=\"Times New Roman,serif\" font-size=\"14.00\">True</text>\r\n",
       "</g>\r\n",
       "<!-- 8 -->\r\n",
       "<g id=\"node9\" class=\"node\"><title>8</title>\r\n",
       "<polygon fill=\"#44a2e6\" stroke=\"black\" points=\"746,-261 603,-261 603,-193 746,-193 746,-261\"/>\r\n",
       "<text text-anchor=\"middle\" x=\"674.5\" y=\"-245.8\" font-family=\"Times New Roman,serif\" font-size=\"14.00\">dark_lights_off &lt;= 0.5</text>\r\n",
       "<text text-anchor=\"middle\" x=\"674.5\" y=\"-230.8\" font-family=\"Times New Roman,serif\" font-size=\"14.00\">entropy = 0.289</text>\r\n",
       "<text text-anchor=\"middle\" x=\"674.5\" y=\"-215.8\" font-family=\"Times New Roman,serif\" font-size=\"14.00\">samples = 8953</text>\r\n",
       "<text text-anchor=\"middle\" x=\"674.5\" y=\"-200.8\" font-family=\"Times New Roman,serif\" font-size=\"14.00\">value = [453, 8500]</text>\r\n",
       "</g>\r\n",
       "<!-- 0&#45;&gt;8 -->\r\n",
       "<g id=\"edge8\" class=\"edge\"><title>0&#45;&gt;8</title>\r\n",
       "<path fill=\"none\" stroke=\"black\" d=\"M599.539,-296.884C609.523,-287.709 620.469,-277.65 630.837,-268.123\"/>\r\n",
       "<polygon fill=\"black\" stroke=\"black\" points=\"633.267,-270.643 638.262,-261.299 628.531,-265.488 633.267,-270.643\"/>\r\n",
       "<text text-anchor=\"middle\" x=\"637.207\" y=\"-282.577\" font-family=\"Times New Roman,serif\" font-size=\"14.00\">False</text>\r\n",
       "</g>\r\n",
       "<!-- 2 -->\r\n",
       "<g id=\"node3\" class=\"node\"><title>2</title>\r\n",
       "<polygon fill=\"#f6d1b7\" stroke=\"black\" points=\"301,-157 156,-157 156,-89 301,-89 301,-157\"/>\r\n",
       "<text text-anchor=\"middle\" x=\"228.5\" y=\"-141.8\" font-family=\"Times New Roman,serif\" font-size=\"14.00\">speeding &lt;= 0.5</text>\r\n",
       "<text text-anchor=\"middle\" x=\"228.5\" y=\"-126.8\" font-family=\"Times New Roman,serif\" font-size=\"14.00\">entropy = 0.964</text>\r\n",
       "<text text-anchor=\"middle\" x=\"228.5\" y=\"-111.8\" font-family=\"Times New Roman,serif\" font-size=\"14.00\">samples = 47344</text>\r\n",
       "<text text-anchor=\"middle\" x=\"228.5\" y=\"-96.8\" font-family=\"Times New Roman,serif\" font-size=\"14.00\">value = [28916, 18428]</text>\r\n",
       "</g>\r\n",
       "<!-- 1&#45;&gt;2 -->\r\n",
       "<g id=\"edge2\" class=\"edge\"><title>1&#45;&gt;2</title>\r\n",
       "<path fill=\"none\" stroke=\"black\" d=\"M379.774,-192.884C357.655,-182.812 333.196,-171.674 310.51,-161.344\"/>\r\n",
       "<polygon fill=\"black\" stroke=\"black\" points=\"311.796,-158.084 301.245,-157.125 308.895,-164.454 311.796,-158.084\"/>\r\n",
       "</g>\r\n",
       "<!-- 5 -->\r\n",
       "<g id=\"node6\" class=\"node\"><title>5</title>\r\n",
       "<polygon fill=\"#e0f0fb\" stroke=\"black\" points=\"525,-157 380,-157 380,-89 525,-89 525,-157\"/>\r\n",
       "<text text-anchor=\"middle\" x=\"452.5\" y=\"-141.8\" font-family=\"Times New Roman,serif\" font-size=\"14.00\">under_infl &lt;= 0.5</text>\r\n",
       "<text text-anchor=\"middle\" x=\"452.5\" y=\"-126.8\" font-family=\"Times New Roman,serif\" font-size=\"14.00\">entropy = 0.995</text>\r\n",
       "<text text-anchor=\"middle\" x=\"452.5\" y=\"-111.8\" font-family=\"Times New Roman,serif\" font-size=\"14.00\">samples = 27179</text>\r\n",
       "<text text-anchor=\"middle\" x=\"452.5\" y=\"-96.8\" font-family=\"Times New Roman,serif\" font-size=\"14.00\">value = [12429, 14750]</text>\r\n",
       "</g>\r\n",
       "<!-- 1&#45;&gt;5 -->\r\n",
       "<g id=\"edge5\" class=\"edge\"><title>1&#45;&gt;5</title>\r\n",
       "<path fill=\"none\" stroke=\"black\" d=\"M452.5,-192.884C452.5,-184.778 452.5,-175.982 452.5,-167.472\"/>\r\n",
       "<polygon fill=\"black\" stroke=\"black\" points=\"456,-167.299 452.5,-157.299 449,-167.299 456,-167.299\"/>\r\n",
       "</g>\r\n",
       "<!-- 3 -->\r\n",
       "<g id=\"node4\" class=\"node\"><title>3</title>\r\n",
       "<polygon fill=\"#f5cdb0\" stroke=\"black\" points=\"145,-53 0,-53 0,-0 145,-0 145,-53\"/>\r\n",
       "<text text-anchor=\"middle\" x=\"72.5\" y=\"-37.8\" font-family=\"Times New Roman,serif\" font-size=\"14.00\">entropy = 0.955</text>\r\n",
       "<text text-anchor=\"middle\" x=\"72.5\" y=\"-22.8\" font-family=\"Times New Roman,serif\" font-size=\"14.00\">samples = 43676</text>\r\n",
       "<text text-anchor=\"middle\" x=\"72.5\" y=\"-7.8\" font-family=\"Times New Roman,serif\" font-size=\"14.00\">value = [27252, 16424]</text>\r\n",
       "</g>\r\n",
       "<!-- 2&#45;&gt;3 -->\r\n",
       "<g id=\"edge3\" class=\"edge\"><title>2&#45;&gt;3</title>\r\n",
       "<path fill=\"none\" stroke=\"black\" d=\"M173.939,-88.9485C157.629,-79.0686 139.812,-68.2758 123.725,-58.5305\"/>\r\n",
       "<polygon fill=\"black\" stroke=\"black\" points=\"125.353,-55.4244 114.986,-53.2367 121.726,-61.4115 125.353,-55.4244\"/>\r\n",
       "</g>\r\n",
       "<!-- 4 -->\r\n",
       "<g id=\"node5\" class=\"node\"><title>4</title>\r\n",
       "<polygon fill=\"#ddeefb\" stroke=\"black\" points=\"294,-53 163,-53 163,-0 294,-0 294,-53\"/>\r\n",
       "<text text-anchor=\"middle\" x=\"228.5\" y=\"-37.8\" font-family=\"Times New Roman,serif\" font-size=\"14.00\">entropy = 0.994</text>\r\n",
       "<text text-anchor=\"middle\" x=\"228.5\" y=\"-22.8\" font-family=\"Times New Roman,serif\" font-size=\"14.00\">samples = 3668</text>\r\n",
       "<text text-anchor=\"middle\" x=\"228.5\" y=\"-7.8\" font-family=\"Times New Roman,serif\" font-size=\"14.00\">value = [1664, 2004]</text>\r\n",
       "</g>\r\n",
       "<!-- 2&#45;&gt;4 -->\r\n",
       "<g id=\"edge4\" class=\"edge\"><title>2&#45;&gt;4</title>\r\n",
       "<path fill=\"none\" stroke=\"black\" d=\"M228.5,-88.9485C228.5,-80.7153 228.5,-71.848 228.5,-63.4814\"/>\r\n",
       "<polygon fill=\"black\" stroke=\"black\" points=\"232,-63.2367 228.5,-53.2367 225,-63.2367 232,-63.2367\"/>\r\n",
       "</g>\r\n",
       "<!-- 6 -->\r\n",
       "<g id=\"node7\" class=\"node\"><title>6</title>\r\n",
       "<polygon fill=\"#e2f1fb\" stroke=\"black\" points=\"457,-53 312,-53 312,-0 457,-0 457,-53\"/>\r\n",
       "<text text-anchor=\"middle\" x=\"384.5\" y=\"-37.8\" font-family=\"Times New Roman,serif\" font-size=\"14.00\">entropy = 0.996</text>\r\n",
       "<text text-anchor=\"middle\" x=\"384.5\" y=\"-22.8\" font-family=\"Times New Roman,serif\" font-size=\"14.00\">samples = 26127</text>\r\n",
       "<text text-anchor=\"middle\" x=\"384.5\" y=\"-7.8\" font-family=\"Times New Roman,serif\" font-size=\"14.00\">value = [12044, 14083]</text>\r\n",
       "</g>\r\n",
       "<!-- 5&#45;&gt;6 -->\r\n",
       "<g id=\"edge6\" class=\"edge\"><title>5&#45;&gt;6</title>\r\n",
       "<path fill=\"none\" stroke=\"black\" d=\"M428.717,-88.9485C422.332,-80.0749 415.416,-70.4648 408.993,-61.5388\"/>\r\n",
       "<polygon fill=\"black\" stroke=\"black\" points=\"411.701,-59.3094 403.02,-53.2367 406.019,-63.398 411.701,-59.3094\"/>\r\n",
       "</g>\r\n",
       "<!-- 7 -->\r\n",
       "<g id=\"node8\" class=\"node\"><title>7</title>\r\n",
       "<polygon fill=\"#abd6f4\" stroke=\"black\" points=\"593.5,-53 475.5,-53 475.5,-0 593.5,-0 593.5,-53\"/>\r\n",
       "<text text-anchor=\"middle\" x=\"534.5\" y=\"-37.8\" font-family=\"Times New Roman,serif\" font-size=\"14.00\">entropy = 0.948</text>\r\n",
       "<text text-anchor=\"middle\" x=\"534.5\" y=\"-22.8\" font-family=\"Times New Roman,serif\" font-size=\"14.00\">samples = 1052</text>\r\n",
       "<text text-anchor=\"middle\" x=\"534.5\" y=\"-7.8\" font-family=\"Times New Roman,serif\" font-size=\"14.00\">value = [385, 667]</text>\r\n",
       "</g>\r\n",
       "<!-- 5&#45;&gt;7 -->\r\n",
       "<g id=\"edge7\" class=\"edge\"><title>5&#45;&gt;7</title>\r\n",
       "<path fill=\"none\" stroke=\"black\" d=\"M481.18,-88.9485C489.038,-79.892 497.562,-70.0682 505.442,-60.9875\"/>\r\n",
       "<polygon fill=\"black\" stroke=\"black\" points=\"508.257,-63.0835 512.168,-53.2367 502.97,-58.4958 508.257,-63.0835\"/>\r\n",
       "</g>\r\n",
       "<!-- 9 -->\r\n",
       "<g id=\"node10\" class=\"node\"><title>9</title>\r\n",
       "<polygon fill=\"#44a2e6\" stroke=\"black\" points=\"737,-157 612,-157 612,-89 737,-89 737,-157\"/>\r\n",
       "<text text-anchor=\"middle\" x=\"674.5\" y=\"-141.8\" font-family=\"Times New Roman,serif\" font-size=\"14.00\">overcast &lt;= 0.5</text>\r\n",
       "<text text-anchor=\"middle\" x=\"674.5\" y=\"-126.8\" font-family=\"Times New Roman,serif\" font-size=\"14.00\">entropy = 0.29</text>\r\n",
       "<text text-anchor=\"middle\" x=\"674.5\" y=\"-111.8\" font-family=\"Times New Roman,serif\" font-size=\"14.00\">samples = 8900</text>\r\n",
       "<text text-anchor=\"middle\" x=\"674.5\" y=\"-96.8\" font-family=\"Times New Roman,serif\" font-size=\"14.00\">value = [453, 8447]</text>\r\n",
       "</g>\r\n",
       "<!-- 8&#45;&gt;9 -->\r\n",
       "<g id=\"edge9\" class=\"edge\"><title>8&#45;&gt;9</title>\r\n",
       "<path fill=\"none\" stroke=\"black\" d=\"M674.5,-192.884C674.5,-184.778 674.5,-175.982 674.5,-167.472\"/>\r\n",
       "<polygon fill=\"black\" stroke=\"black\" points=\"678,-167.299 674.5,-157.299 671,-167.299 678,-167.299\"/>\r\n",
       "</g>\r\n",
       "<!-- 12 -->\r\n",
       "<g id=\"node13\" class=\"node\"><title>12</title>\r\n",
       "<polygon fill=\"#399de5\" stroke=\"black\" points=\"853.5,-149.5 755.5,-149.5 755.5,-96.5 853.5,-96.5 853.5,-149.5\"/>\r\n",
       "<text text-anchor=\"middle\" x=\"804.5\" y=\"-134.3\" font-family=\"Times New Roman,serif\" font-size=\"14.00\">entropy = 0.0</text>\r\n",
       "<text text-anchor=\"middle\" x=\"804.5\" y=\"-119.3\" font-family=\"Times New Roman,serif\" font-size=\"14.00\">samples = 53</text>\r\n",
       "<text text-anchor=\"middle\" x=\"804.5\" y=\"-104.3\" font-family=\"Times New Roman,serif\" font-size=\"14.00\">value = [0, 53]</text>\r\n",
       "</g>\r\n",
       "<!-- 8&#45;&gt;12 -->\r\n",
       "<g id=\"edge12\" class=\"edge\"><title>8&#45;&gt;12</title>\r\n",
       "<path fill=\"none\" stroke=\"black\" d=\"M716.707,-192.884C731.846,-181.006 748.872,-167.646 763.874,-155.876\"/>\r\n",
       "<polygon fill=\"black\" stroke=\"black\" points=\"766.268,-158.446 771.975,-149.52 761.947,-152.939 766.268,-158.446\"/>\r\n",
       "</g>\r\n",
       "<!-- 10 -->\r\n",
       "<g id=\"node11\" class=\"node\"><title>10</title>\r\n",
       "<polygon fill=\"#43a2e6\" stroke=\"black\" points=\"737,-53 612,-53 612,-0 737,-0 737,-53\"/>\r\n",
       "<text text-anchor=\"middle\" x=\"674.5\" y=\"-37.8\" font-family=\"Times New Roman,serif\" font-size=\"14.00\">entropy = 0.283</text>\r\n",
       "<text text-anchor=\"middle\" x=\"674.5\" y=\"-22.8\" font-family=\"Times New Roman,serif\" font-size=\"14.00\">samples = 7584</text>\r\n",
       "<text text-anchor=\"middle\" x=\"674.5\" y=\"-7.8\" font-family=\"Times New Roman,serif\" font-size=\"14.00\">value = [373, 7211]</text>\r\n",
       "</g>\r\n",
       "<!-- 9&#45;&gt;10 -->\r\n",
       "<g id=\"edge10\" class=\"edge\"><title>9&#45;&gt;10</title>\r\n",
       "<path fill=\"none\" stroke=\"black\" d=\"M674.5,-88.9485C674.5,-80.7153 674.5,-71.848 674.5,-63.4814\"/>\r\n",
       "<polygon fill=\"black\" stroke=\"black\" points=\"678,-63.2367 674.5,-53.2367 671,-63.2367 678,-63.2367\"/>\r\n",
       "</g>\r\n",
       "<!-- 11 -->\r\n",
       "<g id=\"node12\" class=\"node\"><title>11</title>\r\n",
       "<polygon fill=\"#46a3e7\" stroke=\"black\" points=\"873.5,-53 755.5,-53 755.5,-0 873.5,-0 873.5,-53\"/>\r\n",
       "<text text-anchor=\"middle\" x=\"814.5\" y=\"-37.8\" font-family=\"Times New Roman,serif\" font-size=\"14.00\">entropy = 0.331</text>\r\n",
       "<text text-anchor=\"middle\" x=\"814.5\" y=\"-22.8\" font-family=\"Times New Roman,serif\" font-size=\"14.00\">samples = 1316</text>\r\n",
       "<text text-anchor=\"middle\" x=\"814.5\" y=\"-7.8\" font-family=\"Times New Roman,serif\" font-size=\"14.00\">value = [80, 1236]</text>\r\n",
       "</g>\r\n",
       "<!-- 9&#45;&gt;11 -->\r\n",
       "<g id=\"edge11\" class=\"edge\"><title>9&#45;&gt;11</title>\r\n",
       "<path fill=\"none\" stroke=\"black\" d=\"M723.465,-88.9485C737.831,-79.2516 753.5,-68.6752 767.725,-59.073\"/>\r\n",
       "<polygon fill=\"black\" stroke=\"black\" points=\"770.041,-61.7325 776.372,-53.2367 766.125,-55.9305 770.041,-61.7325\"/>\r\n",
       "</g>\r\n",
       "</g>\r\n",
       "</svg>\r\n"
      ],
      "text/plain": [
       "<graphviz.files.Source at 0x20e32da7f88>"
      ]
     },
     "execution_count": 53,
     "metadata": {},
     "output_type": "execute_result"
    }
   ],
   "source": [
    "# visualise 3 branch tree\n",
    "import graphviz\n",
    "from IPython.display import SVG\n",
    "from sklearn.tree import export_graphviz\n",
    "dot_data = export_graphviz(accidentTree, out_file=None, feature_names=X.columns, filled=True) \n",
    "graph = graphviz.Source(dot_data) \n",
    "png = graph.pipe(format='png')\n",
    "with open(path + 'dtree_pipe.png','wb') as f:\n",
    "    f.write(png)\n",
    "graph"
   ]
  },
  {
   "cell_type": "code",
   "execution_count": 54,
   "metadata": {},
   "outputs": [
    {
     "name": "stdout",
     "output_type": "stream",
     "text": [
      "1 2 3 4 5 6 7 8 9 10 11 12 13 14 15 "
     ]
    },
    {
     "data": {
      "image/png": "[encoded data removed]",
      "text/plain": [
       "<Figure size 432x288 with 1 Axes>"
      ]
     },
     "metadata": {
      "needs_background": "light"
     },
     "output_type": "display_data"
    }
   ],
   "source": [
    "# test sensitive of k for KNN classfier\n",
    "from sklearn.neighbors import KNeighborsClassifier\n",
    "from sklearn import metrics\n",
    "\n",
    "Ks = 15\n",
    "mean_acc = np.zeros((Ks))\n",
    "std_acc = np.zeros((Ks))\n",
    "ConfustionMx = [];\n",
    "for n in range(1, Ks+1):\n",
    "    print(n, end=' ')\n",
    "    #Train Model and Predict  \n",
    "    neigh = KNeighborsClassifier(n_neighbors = n).fit(X_train,y_train)\n",
    "    yhat=neigh.predict(X_test)\n",
    "    mean_acc[n-1] = metrics.accuracy_score(y_test, yhat)\n",
    "    \n",
    "    std_acc[n-1]=np.std(yhat==y_test)/np.sqrt(yhat.shape[0])\n",
    "\n",
    "plt.plot(range(1,Ks + 1),mean_acc,'g')\n",
    "plt.fill_between(range(1,Ks + 1),mean_acc - 1 * std_acc,mean_acc + 1 * std_acc, alpha=0.10)\n",
    "plt.legend(('Accuracy ', '+/- 3xstd'))\n",
    "plt.ylabel('Accuracy ')\n",
    "plt.xlabel('Number of Neighbors (K)')\n",
    "plt.tight_layout()\n",
    "plt.show()"
   ]
  },
  {
   "cell_type": "code",
   "execution_count": 55,
   "metadata": {},
   "outputs": [
    {
     "name": "stdout",
     "output_type": "stream",
     "text": [
      "KNN Accuracy:  0.62\n",
      "KNN F1 Score:  0.616\n",
      "Normalized confusion matrix\n",
      "[[0.722 0.278]\n",
      " [0.480 0.520]]\n"
     ]
    },
    {
     "data": {
      "image/png": "[encoded data removed]",
      "text/plain": [
       "<Figure size 432x288 with 2 Axes>"
      ]
     },
     "metadata": {
      "needs_background": "light"
     },
     "output_type": "display_data"
    }
   ],
   "source": [
    "# compute metrics for optimal k\n",
    "k = 11\n",
    "#Train Model and Predict  \n",
    "neigh = KNeighborsClassifier(n_neighbors = k).fit(X_train,y_train)\n",
    "yhat = neigh.predict(X_test)\n",
    "\n",
    "print(\"KNN Accuracy: \", metrics.accuracy_score(y_test, yhat).round(3))\n",
    "print(\"KNN F1 Score: \", metrics.f1_score(y_test, yhat, average='weighted').round(3))\n",
    "\n",
    "# Compute confusion matrix\n",
    "cnf_matrix = confusion_matrix(y_test, yhat)\n",
    "np.set_printoptions(precision=2)\n",
    "\n",
    "\n",
    "# Plot non-normalized confusion matrix\n",
    "plt.figure()\n",
    "plot_confusion_matrix(cnf_matrix, classes=[1, 0],normalize= True,  title='Confusion matrix')"
   ]
  },
  {
   "cell_type": "code",
   "execution_count": 31,
   "metadata": {},
   "outputs": [
    {
     "name": "stdout",
     "output_type": "stream",
     "text": [
      "linear :  0.6238175075733724\n",
      "rbf :  0.6289998622363138\n",
      "sigmoid :  0.5927188285630786\n",
      "poly :  0.6089519072600539\n"
     ]
    }
   ],
   "source": [
    "# test for optimal kernal model for SVM\n",
    "from sklearn import svm\n",
    "for kernal in ['linear', 'rbf', 'sigmoid', 'poly']:\n",
    "    clf = svm.SVC(kernel=kernal, gamma='auto')\n",
    "    clf.fit(X_train, y_train) \n",
    "    yhat = clf.predict(X_test)\n",
    "    print(kernal, ': ', metrics.f1_score(y_test, yhat, average='weighted').round(3)\n",
    "         \n",
    "         )"
   ]
  },
  {
   "cell_type": "code",
   "execution_count": 32,
   "metadata": {},
   "outputs": [
    {
     "name": "stdout",
     "output_type": "stream",
     "text": [
      "1000 :  0.628\n",
      "100 :  0.628\n",
      "10 :  0.629\n",
      "1 :  0.629\n",
      "0.1 :  0.624\n",
      "0.01 :  0.624\n"
     ]
    }
   ],
   "source": [
    "# test for optimal c for SVM\n",
    "for c in [1000, 100, 10, 1, 0.1, 0.01]:\n",
    "    clf = svm.SVC(kernel='rbf', C=c, gamma='auto')\n",
    "    clf.fit(X_train, y_train) \n",
    "    yhat = clf.predict(X_test)\n",
    "    print(c, ': ', metrics.f1_score(y_test, yhat, average='weighted').round(3))"
   ]
  },
  {
   "cell_type": "code",
   "execution_count": 40,
   "metadata": {},
   "outputs": [
    {
     "name": "stdout",
     "output_type": "stream",
     "text": [
      "SVM Accuracy:  0.629\n",
      "SVM F1 Score:  0.629\n",
      "Normalized confusion matrix\n",
      "[[0.657 0.343]\n",
      " [0.398 0.602]]\n"
     ]
    },
    {
     "data": {
      "image/png": "[encoded data removed]",
      "text/plain": [
       "<Figure size 432x288 with 2 Axes>"
      ]
     },
     "metadata": {
      "needs_background": "light"
     },
     "output_type": "display_data"
    }
   ],
   "source": [
    "# compute metrics for optimal SVM\n",
    "from sklearn import svm\n",
    "clf = svm.SVC(kernel='rbf', C=1, gamma='auto')\n",
    "clf.fit(X_train, y_train) \n",
    "yhat = clf.predict(X_test)\n",
    "\n",
    "print(\"SVM Accuracy: \", metrics.accuracy_score(y_test, yhat).round(3))\n",
    "print(\"SVM F1 Score: \", metrics.f1_score(y_test, yhat, average='weighted').round(3))\n",
    "\n",
    "# Compute confusion matrix\n",
    "cnf_matrix = confusion_matrix(y_test, yhat)\n",
    "np.set_printoptions(precision=2)\n",
    "\n",
    "# Plot non-normalized confusion matrix\n",
    "plt.figure()\n",
    "plot_confusion_matrix(cnf_matrix, classes=[1, 0],normalize= True,  title='Confusion matrix')"
   ]
  },
  {
   "cell_type": "code",
   "execution_count": 38,
   "metadata": {},
   "outputs": [
    {
     "name": "stdout",
     "output_type": "stream",
     "text": [
      "0.0001 0.626 0.624\n",
      "0.001 0.628 0.626\n",
      "0.01 0.628 0.625\n",
      "0.1 0.627 0.624\n",
      "1 0.627 0.624\n",
      "10 0.627 0.624\n",
      "100 0.627 0.624\n"
     ]
    }
   ],
   "source": [
    "# test for optimal c in Logistic Regression\n",
    "from sklearn.linear_model import LogisticRegression\n",
    "for c in [0.0001, 0.001, 0.01, 0.1, 1, 10, 100]:\n",
    "    LR = LogisticRegression(C=c, solver='liblinear').fit(X_train,y_train)\n",
    "    yhat = LR.predict(X_test)\n",
    "    print(c, metrics.accuracy_score(y_test, yhat).round(3), metrics.f1_score(y_test, yhat, average='weighted').round(3))"
   ]
  },
  {
   "cell_type": "code",
   "execution_count": 35,
   "metadata": {},
   "outputs": [
    {
     "name": "stdout",
     "output_type": "stream",
     "text": [
      "Logistic Regression Accuracy:  0.628\n",
      "Logistic Regression F1 Score:  0.626\n",
      "Normalized confusion matrix\n",
      "[[0.691 0.309]\n",
      " [0.435 0.565]]\n"
     ]
    },
    {
     "data": {
      "image/png": "[encoded data removed]",
      "text/plain": [
       "<Figure size 432x288 with 2 Axes>"
      ]
     },
     "metadata": {
      "needs_background": "light"
     },
     "output_type": "display_data"
    }
   ],
   "source": [
    "# compute metrics for optimal LR model\n",
    "LR = LogisticRegression(C=0.001, solver='liblinear').fit(X_train,y_train)\n",
    "yhat = LR.predict(X_test)\n",
    "\n",
    "# Compute confusion matrix\n",
    "cnf_matrix = confusion_matrix(y_test, yhat)\n",
    "np.set_printoptions(precision=2)\n",
    "\n",
    "print(\"Logistic Regression Accuracy: \", metrics.accuracy_score(y_test, yhat).round(3))\n",
    "print(\"Logistic Regression F1 Score: \", metrics.f1_score(y_test, yhat, average='weighted').round(3))\n",
    "\n",
    "# Plot non-normalized confusion matrix\n",
    "plt.figure()\n",
    "plot_confusion_matrix(cnf_matrix, classes=[1, 0],normalize= True,  title='Confusion matrix')"
   ]
  }
 ],
 "metadata": {
  "kernelspec": {
   "display_name": "Python 3",
   "language": "python",
   "name": "python3"
  },
  "language_info": {
   "codemirror_mode": {
    "name": "ipython",
    "version": 3
   },
   "file_extension": ".py",
   "mimetype": "text/x-python",
   "name": "python",
   "nbconvert_exporter": "python",
   "pygments_lexer": "ipython3",
   "version": "3.7.4"
  }
 },
 "nbformat": 4,
 "nbformat_minor": 2
}
